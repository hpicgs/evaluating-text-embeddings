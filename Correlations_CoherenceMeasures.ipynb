{
 "cells": [
  {
   "cell_type": "code",
   "execution_count": 8,
   "id": "096a550e-2a94-47e5-b6e5-819941a69adc",
   "metadata": {},
   "outputs": [],
   "source": [
    "import pandas as pd\n",
    "import numpy as np"
   ]
  },
  {
   "cell_type": "code",
   "execution_count": 5,
   "id": "9f837845-e9b0-4d7b-94cc-ad5d7d35fa1a",
   "metadata": {},
   "outputs": [],
   "source": [
    "df1 = pd.read_csv(\"model_evaluations/model_evaluations/20_newsgroups_model_evaluation.csv\")\n",
    "df2 = pd.read_csv(\"model_evaluations/model_evaluations/bbc_news_model_evaluation.csv\")\n",
    "df3 = pd.read_csv(\"model_evaluations/model_evaluations/emails_model_evaluation.csv\")\n",
    "df4 = pd.read_csv(\"model_evaluations/model_evaluations/lyrics_model_evaluation.csv\")\n",
    "df5 = pd.read_csv(\"model_evaluations/model_evaluations/reuters_model_evaluation.csv\")\n",
    "df6 = pd.read_csv(\"model_evaluations/model_evaluations/seven_categories_model_evaluation.csv\")\n",
    "\n",
    "df = pd.concat([df1, df2, df3, df4, df5, df6])"
   ]
  },
  {
   "cell_type": "code",
   "execution_count": 6,
   "id": "7ea6f104-70a0-4fbb-94cd-95e2df20f2f9",
   "metadata": {},
   "outputs": [
    {
     "data": {
      "text/html": [
       "<div>\n",
       "<style scoped>\n",
       "    .dataframe tbody tr th:only-of-type {\n",
       "        vertical-align: middle;\n",
       "    }\n",
       "\n",
       "    .dataframe tbody tr th {\n",
       "        vertical-align: top;\n",
       "    }\n",
       "\n",
       "    .dataframe thead th {\n",
       "        text-align: right;\n",
       "    }\n",
       "</style>\n",
       "<table border=\"1\" class=\"dataframe\">\n",
       "  <thead>\n",
       "    <tr style=\"text-align: right;\">\n",
       "      <th></th>\n",
       "      <th>model_type</th>\n",
       "      <th>n_topics</th>\n",
       "      <th>alpha_lda</th>\n",
       "      <th>coherence_u_mass</th>\n",
       "      <th>coherence_c_v</th>\n",
       "      <th>coherence_c_uci</th>\n",
       "      <th>coherence_c_npmi</th>\n",
       "      <th>perplexity</th>\n",
       "    </tr>\n",
       "  </thead>\n",
       "  <tbody>\n",
       "    <tr>\n",
       "      <th>0</th>\n",
       "      <td>lda</td>\n",
       "      <td>10</td>\n",
       "      <td>auto</td>\n",
       "      <td>-1.647771</td>\n",
       "      <td>0.431769</td>\n",
       "      <td>-0.403714</td>\n",
       "      <td>0.000311</td>\n",
       "      <td>254.612658</td>\n",
       "    </tr>\n",
       "    <tr>\n",
       "      <th>1</th>\n",
       "      <td>lda</td>\n",
       "      <td>15</td>\n",
       "      <td>auto</td>\n",
       "      <td>-1.691589</td>\n",
       "      <td>0.425324</td>\n",
       "      <td>-0.329512</td>\n",
       "      <td>0.005311</td>\n",
       "      <td>285.102388</td>\n",
       "    </tr>\n",
       "    <tr>\n",
       "      <th>2</th>\n",
       "      <td>lda</td>\n",
       "      <td>20</td>\n",
       "      <td>auto</td>\n",
       "      <td>-2.084296</td>\n",
       "      <td>0.450647</td>\n",
       "      <td>-0.600277</td>\n",
       "      <td>0.009207</td>\n",
       "      <td>302.912619</td>\n",
       "    </tr>\n",
       "    <tr>\n",
       "      <th>3</th>\n",
       "      <td>lda</td>\n",
       "      <td>25</td>\n",
       "      <td>auto</td>\n",
       "      <td>-1.980010</td>\n",
       "      <td>0.425205</td>\n",
       "      <td>-0.466475</td>\n",
       "      <td>0.003768</td>\n",
       "      <td>329.199261</td>\n",
       "    </tr>\n",
       "    <tr>\n",
       "      <th>4</th>\n",
       "      <td>lda</td>\n",
       "      <td>30</td>\n",
       "      <td>auto</td>\n",
       "      <td>-2.358449</td>\n",
       "      <td>0.439588</td>\n",
       "      <td>-0.678974</td>\n",
       "      <td>0.005376</td>\n",
       "      <td>357.273727</td>\n",
       "    </tr>\n",
       "  </tbody>\n",
       "</table>\n",
       "</div>"
      ],
      "text/plain": [
       "  model_type  n_topics alpha_lda  coherence_u_mass  coherence_c_v  \\\n",
       "0        lda        10      auto         -1.647771       0.431769   \n",
       "1        lda        15      auto         -1.691589       0.425324   \n",
       "2        lda        20      auto         -2.084296       0.450647   \n",
       "3        lda        25      auto         -1.980010       0.425205   \n",
       "4        lda        30      auto         -2.358449       0.439588   \n",
       "\n",
       "   coherence_c_uci  coherence_c_npmi  perplexity  \n",
       "0        -0.403714          0.000311  254.612658  \n",
       "1        -0.329512          0.005311  285.102388  \n",
       "2        -0.600277          0.009207  302.912619  \n",
       "3        -0.466475          0.003768  329.199261  \n",
       "4        -0.678974          0.005376  357.273727  "
      ]
     },
     "execution_count": 6,
     "metadata": {},
     "output_type": "execute_result"
    }
   ],
   "source": [
    "df.head()"
   ]
  },
  {
   "cell_type": "code",
   "execution_count": 24,
   "id": "ff65f584-a8e7-4cea-bc3c-7ba74993e5db",
   "metadata": {},
   "outputs": [
    {
     "data": {
      "text/plain": [
       "{'lda', 'lsi', 'lsi_tfidf', 'nmf', 'nmf_tfidf'}"
      ]
     },
     "execution_count": 24,
     "metadata": {},
     "output_type": "execute_result"
    }
   ],
   "source": [
    "set(df[\"model_type\"].tolist())"
   ]
  },
  {
   "cell_type": "code",
   "execution_count": 9,
   "id": "e8362dbf-0862-4e6a-9dc2-672ad9ec0d58",
   "metadata": {},
   "outputs": [
    {
     "name": "stdout",
     "output_type": "stream",
     "text": [
      "[[ 1.          0.08102885  0.40020513 -0.07291317]\n",
      " [ 0.08102885  1.          0.9200607   0.93368676]\n",
      " [ 0.40020513  0.9200607   1.          0.78466187]\n",
      " [-0.07291317  0.93368676  0.78466187  1.        ]]\n"
     ]
    }
   ],
   "source": [
    "list_coherence_c_v = df[\"coherence_c_v\"].tolist()\n",
    "list_coherence_c_uci = df[\"coherence_c_uci\"].tolist()\n",
    "list_coherence_c_npmi = df[\"coherence_c_npmi\"].tolist()\n",
    "list_coherence_u_mass = df[\"coherence_u_mass\"].tolist()\n",
    "\n",
    "# Combine lists into a 2D NumPy array\n",
    "data = np.array([list_coherence_c_v, list_coherence_c_uci, list_coherence_c_npmi, list_coherence_u_mass])\n",
    "\n",
    "# Compute the correlation matrix\n",
    "correlation_matrix = np.corrcoef(data)\n",
    "\n",
    "print(correlation_matrix)"
   ]
  },
  {
   "cell_type": "code",
   "execution_count": 23,
   "id": "38ba8419-e70d-4b54-a3da-ea5491c83810",
   "metadata": {},
   "outputs": [
    {
     "data": {
      "text/plain": [
       "-0.2030104682274317"
      ]
     },
     "execution_count": 23,
     "metadata": {},
     "output_type": "execute_result"
    }
   ],
   "source": [
    "min(list_coherence_c_npmi)"
   ]
  },
  {
   "cell_type": "code",
   "execution_count": 14,
   "id": "b2dec57a-5bc8-4454-82a6-e88cdc19fcfb",
   "metadata": {},
   "outputs": [
    {
     "name": "stdout",
     "output_type": "stream",
     "text": [
      "   Variable1 Variable2  Correlation\n",
      "0     C_Npmi    C_Npmi     1.000000\n",
      "1     C_Npmi     C_uci     0.920061\n",
      "2     C_Npmi       C_v     0.400205\n",
      "3     C_Npmi    U_mass     0.784662\n",
      "4      C_uci    C_Npmi     0.920061\n",
      "5      C_uci     C_uci     1.000000\n",
      "6      C_uci       C_v     0.081029\n",
      "7      C_uci    U_mass     0.933687\n",
      "8        C_v    C_Npmi     0.400205\n",
      "9        C_v     C_uci     0.081029\n",
      "10       C_v       C_v     1.000000\n",
      "11       C_v    U_mass    -0.072913\n",
      "12    U_mass    C_Npmi     0.784662\n",
      "13    U_mass     C_uci     0.933687\n",
      "14    U_mass       C_v    -0.072913\n",
      "15    U_mass    U_mass     1.000000\n"
     ]
    }
   ],
   "source": [
    "# Create a DataFrame\n",
    "df_corr = pd.DataFrame({\n",
    "    'C_v': list_coherence_c_v,\n",
    "    'C_uci': list_coherence_c_uci,\n",
    "    'C_Npmi': list_coherence_c_npmi,\n",
    "    'U_mass': list_coherence_u_mass\n",
    "})\n",
    "\n",
    "# Compute the correlation matrix\n",
    "correlation_matrix = df_corr.corr()\n",
    "\n",
    "# Convert the correlation matrix to a long format DataFrame\n",
    "correlation_df = correlation_matrix.stack().reset_index()\n",
    "correlation_df.columns = ['Variable1', 'Variable2', 'Correlation']\n",
    "\n",
    "# Optionally, you can sort the DataFrame for better readability\n",
    "correlation_df = correlation_df.sort_values(by=['Variable1', 'Variable2']).reset_index(drop=True)\n",
    "\n",
    "print(correlation_df)"
   ]
  },
  {
   "cell_type": "code",
   "execution_count": 15,
   "id": "f4d5b493-c357-41cf-84ce-7b7435da6266",
   "metadata": {},
   "outputs": [],
   "source": [
    "correlation_df.to_csv(\"CorrelationCoherenceMeasures.csv\")"
   ]
  },
  {
   "cell_type": "code",
   "execution_count": null,
   "id": "7f6a33c9-39e9-4acb-a6a4-208a2beafc93",
   "metadata": {},
   "outputs": [],
   "source": []
  }
 ],
 "metadata": {
  "kernelspec": {
   "display_name": "Python 3 (ipykernel)",
   "language": "python",
   "name": "python3"
  },
  "language_info": {
   "codemirror_mode": {
    "name": "ipython",
    "version": 3
   },
   "file_extension": ".py",
   "mimetype": "text/x-python",
   "name": "python",
   "nbconvert_exporter": "python",
   "pygments_lexer": "ipython3",
   "version": "3.11.7"
  }
 },
 "nbformat": 4,
 "nbformat_minor": 5
}
